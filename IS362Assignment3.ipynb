{
 "cells": [
  {
   "cell_type": "code",
   "execution_count": 29,
   "id": "f0ec275a",
   "metadata": {},
   "outputs": [],
   "source": [
    "## IS362 Assignment 3\n",
    "#Suppose you have ridden a bicycle from New York City to Key West, Florida.  \n",
    "#Your bicycle odometer shows the total miles, which you have dutifully logged at the end of each day with \n",
    "#paper and pencil.  Your first two entries might be 55 and 120, indicating that you rode your bike 55 miles \n",
    "#on day 1 and 65 miles on day 2.  Your task is to create a pandas Series object that holds the cumulative miles \n",
    "#at the end of each day, then use your Python skills to show the total miles that you rode each day."
   ]
  },
  {
   "cell_type": "code",
   "execution_count": 30,
   "id": "6bdab281",
   "metadata": {},
   "outputs": [],
   "source": [
    "#Import the pandas and numpy modules:\n",
    "\n",
    "import pandas as pd\n",
    "import numpy as np"
   ]
  },
  {
   "cell_type": "code",
   "execution_count": 31,
   "id": "97b79829",
   "metadata": {},
   "outputs": [],
   "source": [
    "#Enter the recorded values from the bike's odometer and include the day:\n",
    "bike_odometer={}\n",
    "bike_odometer[1] = 55\n",
    "bike_odometer[2] = 120\n",
    "bike_odometer[3] = 215\n",
    "bike_odometer[4] = 290\n",
    "bike_odometer[5] = 335\n",
    "bike_odometer[6] = 360\n",
    "bike_odometer[7] = 416\n",
    "bike_odometer[8] = 448"
   ]
  },
  {
   "cell_type": "code",
   "execution_count": 32,
   "id": "9e10ced3",
   "metadata": {},
   "outputs": [
    {
     "name": "stdout",
     "output_type": "stream",
     "text": [
      "1     55\n",
      "2    120\n",
      "3    215\n",
      "4    290\n",
      "5    335\n",
      "6    360\n",
      "7    416\n",
      "8    448\n",
      "dtype: int64\n"
     ]
    }
   ],
   "source": [
    "#Create a variable and call the pandas series to output it:\n",
    "\n",
    "    bike_odometer = pd.Series(bike_odometer)\n",
    "    \n",
    "    print(bike_odometer)"
   ]
  },
  {
   "cell_type": "code",
   "execution_count": null,
   "id": "3c05fe67",
   "metadata": {},
   "outputs": [],
   "source": []
  }
 ],
 "metadata": {
  "kernelspec": {
   "display_name": "Python 3",
   "language": "python",
   "name": "python3"
  },
  "language_info": {
   "codemirror_mode": {
    "name": "ipython",
    "version": 3
   },
   "file_extension": ".py",
   "mimetype": "text/x-python",
   "name": "python",
   "nbconvert_exporter": "python",
   "pygments_lexer": "ipython3",
   "version": "3.8.10"
  }
 },
 "nbformat": 4,
 "nbformat_minor": 5
}
